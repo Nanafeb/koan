{
 "cells": [
  {
   "cell_type": "markdown",
   "metadata": {
    "colab_type": "text",
    "id": "LEBJoVmXm3KG"
   },
   "source": [
    "# Koan Elementary\n",
    "\n",
    "+ Elementaryでは，Pythonを始めたばかりの方にPythonの基礎的な問題をたくさん解いてもらうことを目的にしています．\n",
    "+ このKoanは [Pythonスタートブック ](https://www.amazon.co.jp/dp/4774142298)を参考に問題を作成しています．\n",
    "+ 以下の例題のように問題を解いていってください．\n",
    "\n"
   ]
  },
  {
   "cell_type": "code",
   "execution_count": 0,
   "metadata": {
    "colab": {
     "base_uri": "https://localhost:8080/",
     "height": 34
    },
    "colab_type": "code",
    "executionInfo": {
     "elapsed": 1347,
     "status": "ok",
     "timestamp": 1570237855054,
     "user": {
      "displayName": "しんせいたろう",
      "photoUrl": "https://lh3.googleusercontent.com/a-/AAuE7mCeGSOpo-IOBm-SS14R2Q4izSqp9di-ia6aKdzy3g=s64",
      "userId": "05047283289092437640"
     },
     "user_tz": -540
    },
    "id": "ttrhhiRhobF4",
    "outputId": "5f49b87c-2f62-4470-ce75-5f6287a8e691"
   },
   "outputs": [
    {
     "name": "stdout",
     "output_type": "stream",
     "text": [
      "Hello\n"
     ]
    }
   ],
   "source": [
    "# 問題はコメントで書きます．その下にコードを書いて下さい。\n",
    "# コーディングが必要ではない問題もたまにあります。その時は答えをコメントして下さい。\n",
    "\n",
    "# 問題例1\n",
    "# Hello を print してください\n",
    "\n",
    "print(\"Hello\")\n",
    "\n",
    "# 問題例２\n",
    "# python を産んだ人は誰ですか\n",
    "# \n",
    "# グイド・ヴァンロッサム\n",
    "\n"
   ]
  },
  {
   "cell_type": "markdown",
   "metadata": {
    "colab_type": "text",
    "id": "spfDEpCtn940"
   },
   "source": [
    "## 四則演算など\n"
   ]
  },
  {
   "cell_type": "code",
   "execution_count": 0,
   "metadata": {
    "colab": {},
    "colab_type": "code",
    "id": "d9QQt25MoAIF"
   },
   "outputs": [],
   "source": [
    "# 1足す1\n"
   ]
  },
  {
   "cell_type": "code",
   "execution_count": 0,
   "metadata": {
    "colab": {},
    "colab_type": "code",
    "id": "_8ndv34ZoIcM"
   },
   "outputs": [],
   "source": [
    "# 10割る5\n"
   ]
  },
  {
   "cell_type": "code",
   "execution_count": 0,
   "metadata": {
    "colab": {},
    "colab_type": "code",
    "id": "Ji4VbhXXoL78"
   },
   "outputs": [],
   "source": [
    "# 余りが4になる演算\n"
   ]
  },
  {
   "cell_type": "code",
   "execution_count": 0,
   "metadata": {
    "colab": {},
    "colab_type": "code",
    "id": "PphflQD9oZJ2"
   },
   "outputs": [],
   "source": [
    "# 10の2乗\n"
   ]
  },
  {
   "cell_type": "code",
   "execution_count": 0,
   "metadata": {
    "colab": {},
    "colab_type": "code",
    "id": "G4pg7RhqqhNW"
   },
   "outputs": [],
   "source": [
    "# 変数x に1を格納\n"
   ]
  },
  {
   "cell_type": "code",
   "execution_count": 0,
   "metadata": {
    "colab": {},
    "colab_type": "code",
    "id": "VrxdkQGmqmzP"
   },
   "outputs": [],
   "source": [
    "# xに5を足す\n"
   ]
  },
  {
   "cell_type": "code",
   "execution_count": 0,
   "metadata": {
    "colab": {},
    "colab_type": "code",
    "id": "D-D4Pgbvqrzu"
   },
   "outputs": [],
   "source": [
    "# x に10をかける"
   ]
  },
  {
   "cell_type": "code",
   "execution_count": 0,
   "metadata": {
    "colab": {},
    "colab_type": "code",
    "id": "mpqNn9aQiRfw"
   },
   "outputs": [],
   "source": [
    "# x の 10 乗\n"
   ]
  },
  {
   "cell_type": "markdown",
   "metadata": {
    "colab_type": "text",
    "id": "cMvxGrwjouS8"
   },
   "source": [
    "## 文字列"
   ]
  },
  {
   "cell_type": "code",
   "execution_count": 0,
   "metadata": {
    "colab": {},
    "colab_type": "code",
    "id": "9BHyTkWAoxWp"
   },
   "outputs": [],
   "source": [
    "# 「python」 という文字列を出力\n"
   ]
  },
  {
   "cell_type": "code",
   "execution_count": 0,
   "metadata": {
    "colab": {},
    "colab_type": "code",
    "id": "joVKRSVRpLpT"
   },
   "outputs": [],
   "source": [
    "# 「こんにちは」という文字列を出力\n"
   ]
  },
  {
   "cell_type": "code",
   "execution_count": 0,
   "metadata": {
    "colab": {},
    "colab_type": "code",
    "id": "2Ysuk-ahpE42"
   },
   "outputs": [],
   "source": [
    "# 「python」という文字列をsという変数に格納\n",
    "\n"
   ]
  },
  {
   "cell_type": "code",
   "execution_count": 0,
   "metadata": {
    "colab": {},
    "colab_type": "code",
    "id": "PCH0unrRpZVw"
   },
   "outputs": [],
   "source": [
    "# 上記 s を使って sの2番めの文字列を取得\n"
   ]
  },
  {
   "cell_type": "code",
   "execution_count": 0,
   "metadata": {
    "colab": {},
    "colab_type": "code",
    "id": "umKN91G9phZy"
   },
   "outputs": [],
   "source": [
    "# 上記 s を使って sの後ろから2番めの文字列を取得"
   ]
  },
  {
   "cell_type": "code",
   "execution_count": 0,
   "metadata": {
    "colab": {},
    "colab_type": "code",
    "id": "pq1hznmuFfUn"
   },
   "outputs": [],
   "source": [
    "# s の文字数を出力して下さい"
   ]
  },
  {
   "cell_type": "code",
   "execution_count": 0,
   "metadata": {
    "colab": {},
    "colab_type": "code",
    "id": "aYfLmlb_FkHM"
   },
   "outputs": [],
   "source": [
    "# t に \"ruby\" という文字列を格納して下さい"
   ]
  },
  {
   "cell_type": "code",
   "execution_count": 0,
   "metadata": {
    "colab": {},
    "colab_type": "code",
    "id": "y2Ilxyu3F0wr"
   },
   "outputs": [],
   "source": [
    "# s と t をつかって，を一つの文字列\"pythonruby\"にしてください"
   ]
  },
  {
   "cell_type": "code",
   "execution_count": 0,
   "metadata": {
    "colab": {},
    "colab_type": "code",
    "id": "8xP3mQMaF5BD"
   },
   "outputs": [],
   "source": [
    "# print 関数に s と t を渡して文字列\"python ruby\" を出力して下さい．\n"
   ]
  },
  {
   "cell_type": "markdown",
   "metadata": {
    "colab_type": "text",
    "id": "Uewyrdfzq2r-"
   },
   "source": [
    "## 整数"
   ]
  },
  {
   "cell_type": "code",
   "execution_count": 0,
   "metadata": {
    "colab": {},
    "colab_type": "code",
    "id": "h6ECs7atpla9"
   },
   "outputs": [],
   "source": [
    "# x に 100 を y に 500 を格納\n"
   ]
  },
  {
   "cell_type": "code",
   "execution_count": 0,
   "metadata": {
    "colab": {},
    "colab_type": "code",
    "id": "qBA533IXrIIl"
   },
   "outputs": [],
   "source": [
    "# x が整数(int)型であることを確認\n"
   ]
  },
  {
   "cell_type": "code",
   "execution_count": 0,
   "metadata": {
    "colab": {},
    "colab_type": "code",
    "id": "_gOu5p1ZrpNv"
   },
   "outputs": [],
   "source": [
    "# x と y を足し合わせる"
   ]
  },
  {
   "cell_type": "markdown",
   "metadata": {
    "colab_type": "text",
    "id": "7OdaGSzBreyr"
   },
   "source": [
    "## 小数型"
   ]
  },
  {
   "cell_type": "code",
   "execution_count": 0,
   "metadata": {
    "colab": {},
    "colab_type": "code",
    "id": "qMXYhneQrlR0"
   },
   "outputs": [],
   "source": [
    "# x1 に 0.5 を格納する "
   ]
  },
  {
   "cell_type": "code",
   "execution_count": 0,
   "metadata": {
    "colab": {},
    "colab_type": "code",
    "id": "XeYJPS5NrUtU"
   },
   "outputs": [],
   "source": [
    "# x1 の 型を確認する\n"
   ]
  },
  {
   "cell_type": "markdown",
   "metadata": {
    "colab_type": "text",
    "id": "H5eb8e3QsR0G"
   },
   "source": [
    "## 真偽値\n",
    "\n",
    "TrueもしくはFalseを返すように記述してください"
   ]
  },
  {
   "cell_type": "code",
   "execution_count": 0,
   "metadata": {
    "colab": {},
    "colab_type": "code",
    "id": "2McW4qz4rUWw"
   },
   "outputs": [],
   "source": [
    "# x は50以上である事を確認する\n",
    "x = 100\n"
   ]
  },
  {
   "cell_type": "code",
   "execution_count": 0,
   "metadata": {
    "colab": {},
    "colab_type": "code",
    "id": "FW1OfN7ishM1"
   },
   "outputs": [],
   "source": [
    "# 1は0.1より大きいことを確認する"
   ]
  },
  {
   "cell_type": "code",
   "execution_count": 0,
   "metadata": {
    "colab": {},
    "colab_type": "code",
    "id": "PIJsLI5IDbJB"
   },
   "outputs": [],
   "source": [
    "# 1は0.1より大きいことを確認する \n"
   ]
  },
  {
   "cell_type": "markdown",
   "metadata": {
    "colab_type": "text",
    "id": "YfS3aSy5DcAM"
   },
   "source": [
    "## 比較演算子\n",
    "\n",
    "TrueもしくはFalseを返すように記述してください"
   ]
  },
  {
   "cell_type": "code",
   "execution_count": 0,
   "metadata": {
    "colab": {},
    "colab_type": "code",
    "id": "EH522uXfDgTN"
   },
   "outputs": [],
   "source": [
    "# x より y が大きいことを確認する\n",
    "x = 10 \n",
    "y = 4\n"
   ]
  },
  {
   "cell_type": "code",
   "execution_count": 0,
   "metadata": {
    "colab": {},
    "colab_type": "code",
    "id": "1xiRUkfYDtr_"
   },
   "outputs": [],
   "source": [
    "# x より y が小さいことを確認する\n",
    "x = 10 \n",
    "y = 40\n"
   ]
  },
  {
   "cell_type": "code",
   "execution_count": 0,
   "metadata": {
    "colab": {},
    "colab_type": "code",
    "id": "F8OAp25nD1rg"
   },
   "outputs": [],
   "source": [
    "# x と y が同値であることを確認する\n",
    "x = 10 \n",
    "y = 10\n"
   ]
  },
  {
   "cell_type": "code",
   "execution_count": 0,
   "metadata": {
    "colab": {},
    "colab_type": "code",
    "id": "mLVES2mfD74U"
   },
   "outputs": [],
   "source": [
    "# x と y が同値ではないことを確認する\n",
    "x = 10 \n",
    "y = 12\n",
    "\n"
   ]
  },
  {
   "cell_type": "code",
   "execution_count": 0,
   "metadata": {
    "colab": {},
    "colab_type": "code",
    "id": "W5RnAJW9g9se"
   },
   "outputs": [],
   "source": [
    "# x も y も100以下であることを確認する\n",
    "x = 10 \n",
    "y = 12\n",
    "\n"
   ]
  },
  {
   "cell_type": "markdown",
   "metadata": {
    "colab_type": "text",
    "id": "iUpPUAn3Dkmi"
   },
   "source": [
    "## 代入演算子"
   ]
  },
  {
   "cell_type": "code",
   "execution_count": 0,
   "metadata": {
    "colab": {},
    "colab_type": "code",
    "id": "WWsDTZaYEJjm"
   },
   "outputs": [],
   "source": [
    "# i に 10 を格納して下さい"
   ]
  },
  {
   "cell_type": "code",
   "execution_count": 0,
   "metadata": {
    "colab": {},
    "colab_type": "code",
    "id": "Y5NV6MqJERPJ"
   },
   "outputs": [],
   "source": [
    "# i に 2 を足して 12 にしてください．ただし i = i + 2 以外の書き方で書いてください．\n",
    "\n"
   ]
  },
  {
   "cell_type": "markdown",
   "metadata": {
    "colab_type": "text",
    "id": "aslti-BJoTkw"
   },
   "source": [
    "## リスト"
   ]
  },
  {
   "cell_type": "code",
   "execution_count": 0,
   "metadata": {
    "colab": {},
    "colab_type": "code",
    "id": "vo1Va0AXoOco"
   },
   "outputs": [],
   "source": [
    "# 1から10の整数を含むリストを作成して下さい"
   ]
  },
  {
   "cell_type": "code",
   "execution_count": 0,
   "metadata": {
    "colab": {},
    "colab_type": "code",
    "id": "R_GFuB8CnFo3"
   },
   "outputs": [],
   "source": [
    "# 1から10の整数をリストで表示して下さい\n",
    "# ただし range 関数を使うこと"
   ]
  },
  {
   "cell_type": "code",
   "execution_count": 0,
   "metadata": {
    "colab": {},
    "colab_type": "code",
    "id": "jLPiBPE-pDG8"
   },
   "outputs": [],
   "source": [
    "# AからG のアルファベットのリストを作成してください。\n"
   ]
  },
  {
   "cell_type": "code",
   "execution_count": 0,
   "metadata": {
    "colab": {},
    "colab_type": "code",
    "id": "MdZ7w5ssnUlS"
   },
   "outputs": [],
   "source": [
    "# AからG のアルファベットのリストを作成してください。\n",
    "# ただし list 関数を使い，引数は一つだけ渡すこと"
   ]
  },
  {
   "cell_type": "code",
   "execution_count": 0,
   "metadata": {
    "colab": {},
    "colab_type": "code",
    "id": "9st0M3MUJibB"
   },
   "outputs": [],
   "source": [
    "# 2つのリストを一つのリスト [1,2,3,4]にしてください\n",
    "\n",
    "x = [1,2]\n",
    "y = [3,4]"
   ]
  },
  {
   "cell_type": "code",
   "execution_count": 0,
   "metadata": {
    "colab": {},
    "colab_type": "code",
    "id": "U7Y7qZw9nhHc"
   },
   "outputs": [],
   "source": [
    "# 以下の x と y を一つのリスト [1,2,3,4]にしてください。\n",
    "# ただし リストのメソッド関数を使うこと．\n",
    "\n",
    "x = [1,2]\n",
    "y = [3,4]"
   ]
  },
  {
   "cell_type": "code",
   "execution_count": 0,
   "metadata": {
    "colab": {},
    "colab_type": "code",
    "id": "fnOQF-P3nVNL"
   },
   "outputs": [],
   "source": [
    "# 以下の x と yを使って、[1,2,[3,4]] を作成してください\n",
    "x = [1,2]\n",
    "y = [3,4]"
   ]
  },
  {
   "cell_type": "code",
   "execution_count": 0,
   "metadata": {
    "colab": {},
    "colab_type": "code",
    "id": "aRQaZHWxMJto"
   },
   "outputs": [],
   "source": [
    "# 以下の x の 0 番目の要素を5に変更して下さい\n",
    "x = [1,2,3,4,5]\n"
   ]
  },
  {
   "cell_type": "code",
   "execution_count": 0,
   "metadata": {
    "colab": {},
    "colab_type": "code",
    "id": "O6cGAWPtMnqD"
   },
   "outputs": [],
   "source": [
    "# 以下の x の最後に 6 を追加して下さい\n",
    "x = [1,2,3,4,5]"
   ]
  },
  {
   "cell_type": "code",
   "execution_count": 0,
   "metadata": {
    "colab": {},
    "colab_type": "code",
    "id": "m31Jf_PYMxGv"
   },
   "outputs": [],
   "source": [
    "# 以下の x の０番目に 6 を追加して下さい\n",
    "x = [1,2,3,4,5]\n"
   ]
  },
  {
   "cell_type": "code",
   "execution_count": 0,
   "metadata": {
    "colab": {},
    "colab_type": "code",
    "id": "QplLo5eFM44p"
   },
   "outputs": [],
   "source": [
    "# 以下の x の3番前目に 6 を追加して下さい\n",
    "x = [1,2,3,4,5]\n"
   ]
  },
  {
   "cell_type": "code",
   "execution_count": 0,
   "metadata": {
    "colab": {},
    "colab_type": "code",
    "id": "dsmVFlSJNIGh"
   },
   "outputs": [],
   "source": [
    "# 以下の x から4を削除して下さい\n",
    "x = [1,2,3,4,5]\n"
   ]
  },
  {
   "cell_type": "code",
   "execution_count": 0,
   "metadata": {
    "colab": {},
    "colab_type": "code",
    "id": "LPy7khGWLSeG"
   },
   "outputs": [],
   "source": [
    "# リストlの最後 にxを追加して下さい. \n",
    "l = [1,2,3]\n",
    "x = \"A\"\n"
   ]
  },
  {
   "cell_type": "code",
   "execution_count": 0,
   "metadata": {
    "colab": {},
    "colab_type": "code",
    "id": "aqvcy5MDLiqn"
   },
   "outputs": [],
   "source": [
    "# list の2番めに要素を追加して下さい. [1,\"A\", 2,3 ]\n",
    "l = [1,2,3]\n",
    "x = \"A\"\n",
    "\n"
   ]
  },
  {
   "cell_type": "code",
   "execution_count": 0,
   "metadata": {
    "colab": {},
    "colab_type": "code",
    "id": "1-HZ8gNKAXuv"
   },
   "outputs": [],
   "source": [
    "# long_listの要素数を数える\n",
    "long_list = [1, 2, 3, 4, 5, 6, 7, 8, 9, 10, 11, 12, 13, 14, 15, 16, 17, 18, 19, 20, 21, 22, 23, 24, 25, 26, 27, 28, 29, 30, 31, 32, 33, 34, 35, 36, 37, 38, 39, 40, 41, 42, 43, 44, 45, 46, 47, 48, 49]\n"
   ]
  },
  {
   "cell_type": "code",
   "execution_count": 0,
   "metadata": {
    "colab": {},
    "colab_type": "code",
    "id": "uAmZNPz8CwX6"
   },
   "outputs": [],
   "source": [
    "# long_listの3番目を取り出す\n",
    "long_list = [1, 2, 3, 4, 5, 6, 7, 8, 9, 10, 11, 12, 13, 14, 15, 16, 17, 18, 19, 20, 21, 22, 23, 24, 25, 26, 27, 28, 29, 30, 31, 32, 33, 34, 35, 36, 37, 38, 39, 40, 41, 42, 43, 44, 45, 46, 47, 48, 49]\n"
   ]
  },
  {
   "cell_type": "code",
   "execution_count": 0,
   "metadata": {
    "colab": {},
    "colab_type": "code",
    "id": "cOTNhYbnsFCm"
   },
   "outputs": [],
   "source": [
    "# long_listの前から5を取得\n",
    "long_list = [1, 2, 3, 4, 5, 6, 7, 8, 9, 10, 11, 12, 13, 14, 15, 16, 17, 18, 19, 20, 21, 22, 23, 24, 25, 26, 27, 28, 29, 30, 31, 32, 33, 34, 35, 36, 37, 38, 39, 40, 41, 42, 43, 44, 45, 46, 47, 48, 49]\n"
   ]
  },
  {
   "cell_type": "code",
   "execution_count": 0,
   "metadata": {
    "colab": {},
    "colab_type": "code",
    "id": "8M5Nskw3su3t"
   },
   "outputs": [],
   "source": [
    "# long_listの後ろから5を取得\n",
    "long_list = [1, 2, 3, 4, 5, 6, 7, 8, 9, 10, 11, 12, 13, 14, 15, 16, 17, 18, 19, 20, 21, 22, 23, 24, 25, 26, 27, 28, 29, 30, 31, 32, 33, 34, 35, 36, 37, 38, 39, 40, 41, 42, 43, 44, 45, 46, 47, 48, 49]\n",
    "\n"
   ]
  },
  {
   "cell_type": "code",
   "execution_count": 0,
   "metadata": {
    "colab": {},
    "colab_type": "code",
    "id": "Iwl-9ncMs076"
   },
   "outputs": [],
   "source": [
    "# long_listから [10, 11, 12, 13, 14, 15]だけ取得\n",
    "long_list = [1, 2, 3, 4, 5, 6, 7, 8, 9, 10, 11, 12, 13, 14, 15, 16, 17, 18, 19, 20, 21, 22, 23, 24, 25, 26, 27, 28, 29, 30, 31, 32, 33, 34, 35, 36, 37, 38, 39, 40, 41, 42, 43, 44, 45, 46, 47, 48, 49]\n"
   ]
  },
  {
   "cell_type": "code",
   "execution_count": 0,
   "metadata": {
    "colab": {},
    "colab_type": "code",
    "id": "SUoZVC-4tEfO"
   },
   "outputs": [],
   "source": [
    "# long_listを5つ飛びで取得。つまり，[1, 6, 11, 16, 21, 26, 31, 36, 41, 46]というリストを出力する\n",
    "long_list = [1, 2, 3, 4, 5, 6, 7, 8, 9, 10, 11, 12, 13, 14, 15, 16, 17, 18, 19, 20, 21, 22, 23, 24, 25, 26, 27, 28, 29, 30, 31, 32, 33, 34, 35, 36, 37, 38, 39, 40, 41, 42, 43, 44, 45, 46, 47, 48, 49]\n"
   ]
  },
  {
   "cell_type": "code",
   "execution_count": 0,
   "metadata": {
    "colab": {},
    "colab_type": "code",
    "id": "jqWxqk9IszOt"
   },
   "outputs": [],
   "source": [
    "# long_listの各要素に10をたしたリストを返す\n",
    "long_list = [1, 2, 3, 4, 5, 6, 7, 8, 9, 10, 11, 12, 13, 14, 15, 16, 17, 18, 19, 20, 21, 22, 23, 24, 25, 26, 27, 28, 29, 30, 31, 32, 33, 34, 35, 36, 37, 38, 39, 40, 41, 42, 43, 44, 45, 46, 47, 48, 49]\n"
   ]
  },
  {
   "cell_type": "code",
   "execution_count": 0,
   "metadata": {
    "colab": {},
    "colab_type": "code",
    "id": "FUFdnK1Ptbgl"
   },
   "outputs": [],
   "source": [
    "# long_listの各要素に10をたしたリストを返す. ただしリスト内包記を使う．\n",
    "long_list = [1, 2, 3, 4, 5, 6, 7, 8, 9, 10, 11, 12, 13, 14, 15, 16, 17, 18, 19, 20, 21, 22, 23, 24, 25, 26, 27, 28, 29, 30, 31, 32, 33, 34, 35, 36, 37, 38, 39, 40, 41, 42, 43, 44, 45, 46, 47, 48, 49]\n"
   ]
  },
  {
   "cell_type": "code",
   "execution_count": 0,
   "metadata": {
    "colab": {},
    "colab_type": "code",
    "id": "hp6me0kyNeLN"
   },
   "outputs": [],
   "source": [
    "# 以下の xとa を，組み込み関数を使って小さい方から並べ替えて下さい\n",
    "x = [3, 4, 1, 4, 4, 2, 0, 4, 2, 0]\n",
    "a = ['Smith', 'Jones', 'Williams', 'Brown', 'Taylor', 'Davies', 'Wilson', 'Evans', 'Thomas', 'Roberts']\n"
   ]
  },
  {
   "cell_type": "code",
   "execution_count": 0,
   "metadata": {
    "colab": {},
    "colab_type": "code",
    "id": "108JIYUiOOvt"
   },
   "outputs": [],
   "source": [
    "# 以下の x と aを， リストオブジェクトのメソッドを使って小さい方から並べ替えて下さい\n",
    "x = [3, 4, 1, 4, 4, 2, 0, 4, 2, 0]\n",
    "a = ['Smith', 'Jones', 'Williams', 'Brown', 'Taylor', 'Davies', 'Wilson', 'Evans', 'Thomas', 'Roberts']\n"
   ]
  },
  {
   "cell_type": "code",
   "execution_count": 0,
   "metadata": {
    "colab": {},
    "colab_type": "code",
    "id": "sHED1IpwPan0"
   },
   "outputs": [],
   "source": [
    "# 空のリスト l を作ってください"
   ]
  },
  {
   "cell_type": "code",
   "execution_count": 0,
   "metadata": {
    "colab": {},
    "colab_type": "code",
    "id": "UeeUiTcW0GxU"
   },
   "outputs": [],
   "source": [
    "# l に何かしらの要素を複数追加してください"
   ]
  },
  {
   "cell_type": "markdown",
   "metadata": {
    "colab_type": "text",
    "id": "NZt3W9H3pAwD"
   },
   "source": [
    "## 辞書\n"
   ]
  },
  {
   "cell_type": "code",
   "execution_count": 0,
   "metadata": {
    "colab": {},
    "colab_type": "code",
    "id": "M5YHJ4UQiQPk"
   },
   "outputs": [],
   "source": [
    "# キーワードに \"A\", \"B\", \"C\"、値に1,2,3 を持つ辞書を｛｝を使って作成してください"
   ]
  },
  {
   "cell_type": "code",
   "execution_count": 0,
   "metadata": {
    "colab": {},
    "colab_type": "code",
    "id": "AXzs6lETns0H"
   },
   "outputs": [],
   "source": [
    "# キーワードに \"A\", \"B\", \"C\"、値に1,2,3 を持つ辞書をdict関数を使って作成してください"
   ]
  },
  {
   "cell_type": "code",
   "execution_count": 0,
   "metadata": {
    "colab": {},
    "colab_type": "code",
    "id": "eRVlpMlZn0Ou"
   },
   "outputs": [],
   "source": [
    "# d1にd2を追加して {'a': 1, 'b': 2, 'c': 3, 'd': 4, 'e': 5, 'f': 6} のような辞書にしてください（順不同でOK）\n",
    "d1 = {'a': 1, 'b': 2, 'c': 3}\n",
    "d2 = {'d': 4, 'e': 5, 'f': 6}\n"
   ]
  },
  {
   "cell_type": "code",
   "execution_count": 0,
   "metadata": {
    "colab": {},
    "colab_type": "code",
    "id": "AAxgM5LrooJK"
   },
   "outputs": [],
   "source": [
    "#d1から、キーワードだけ取得\n",
    "d1 = {'a': 1, 'b': 2, 'c': 3}\n"
   ]
  },
  {
   "cell_type": "code",
   "execution_count": 0,
   "metadata": {
    "colab": {},
    "colab_type": "code",
    "id": "BLOpCr0MporZ"
   },
   "outputs": [],
   "source": [
    "#d1から、値だけ取得\n",
    "d1 = {'a': 1, 'b': 2, 'c': 3}\n"
   ]
  },
  {
   "cell_type": "code",
   "execution_count": 0,
   "metadata": {
    "colab": {},
    "colab_type": "code",
    "id": "5BT_3PEyp3Y9"
   },
   "outputs": [],
   "source": [
    "#d1から'b'の値を取得\n",
    "d1 = {'a': 1, 'b': 2, 'c': 3}\n"
   ]
  },
  {
   "cell_type": "code",
   "execution_count": 0,
   "metadata": {
    "colab": {},
    "colab_type": "code",
    "id": "8oUDsSlDqipO"
   },
   "outputs": [],
   "source": [
    "#d1から'b'の値を取得。ただし、辞書のメソッドを使うこと\n",
    "d1 = {'a': 1, 'b': 2, 'c': 3}\n"
   ]
  },
  {
   "cell_type": "code",
   "execution_count": 0,
   "metadata": {
    "colab": {},
    "colab_type": "code",
    "id": "rChccHhzqzNq"
   },
   "outputs": [],
   "source": [
    "#d1から'z'の値を取得しようとすると、KeyErrorが出る。このKeyErrorを出さずに、'zは無いよ'というメッセージを出す\n",
    "d1 = {'a': 1, 'b': 2, 'c': 3}\n",
    "\n"
   ]
  },
  {
   "cell_type": "code",
   "execution_count": 0,
   "metadata": {
    "colab": {},
    "colab_type": "code",
    "id": "cKCbPSWXps1C"
   },
   "outputs": [],
   "source": [
    "#d1に 'b'というキーワードが含まれているか確認\n",
    "d1 = {'a': 1, 'b': 2, 'c': 3}\n"
   ]
  },
  {
   "cell_type": "code",
   "execution_count": 0,
   "metadata": {
    "colab": {},
    "colab_type": "code",
    "id": "oixVYegkrvw_"
   },
   "outputs": [],
   "source": [
    "#d1 を、キーと値のタプルのリストに変換する\n",
    "# dict_items([('a', 1), ('b', 2), ('c', 3)])\n",
    "\n",
    "d1 = {'a': 1, 'b': 2, 'c': 3}\n"
   ]
  },
  {
   "cell_type": "code",
   "execution_count": 0,
   "metadata": {
    "colab": {},
    "colab_type": "code",
    "id": "T3ogR_rAtj1b"
   },
   "outputs": [],
   "source": [
    "# 空のリスト classmates を作成する\n"
   ]
  },
  {
   "cell_type": "code",
   "execution_count": 0,
   "metadata": {
    "colab": {},
    "colab_type": "code",
    "id": "p5NO0mzj4aXU"
   },
   "outputs": [],
   "source": [
    "# 以下のテーブルの各行を辞書型データに書き換えて\n",
    "# classmates 辞書に追加してください。\n"
   ]
  },
  {
   "cell_type": "markdown",
   "metadata": {
    "colab_type": "text",
    "id": "oUsRhqr05qyL"
   },
   "source": [
    "name | sex | address\n",
    "---|---|---\n",
    "Zoe Thomson|Female| England\n",
    "Lewis Matthews|Male| England\n",
    "Stella Illich|Female |New Zealand\n",
    "Aurelia Aman |Female |Romania\n",
    "\n"
   ]
  },
  {
   "cell_type": "markdown",
   "metadata": {
    "colab_type": "text",
    "id": "OFKBQWpdJfkR"
   },
   "source": [
    "## タプル\n",
    "\n",
    "\n",
    "\n"
   ]
  },
  {
   "cell_type": "code",
   "execution_count": 0,
   "metadata": {
    "colab": {},
    "colab_type": "code",
    "id": "h0Zn08rA673_"
   },
   "outputs": [],
   "source": [
    "# 1,2,3, \"ice\", \"apple\" を要素に持つタプル t を作る"
   ]
  },
  {
   "cell_type": "code",
   "execution_count": 0,
   "metadata": {
    "colab": {},
    "colab_type": "code",
    "id": "w3k9MP297Ur_"
   },
   "outputs": [],
   "source": [
    "# t の3番目の要素を取得"
   ]
  },
  {
   "cell_type": "code",
   "execution_count": 0,
   "metadata": {
    "colab": {},
    "colab_type": "code",
    "id": "yiX2Zu8e7ZzQ"
   },
   "outputs": [],
   "source": [
    "# tの１〜３番の要素を取得"
   ]
  },
  {
   "cell_type": "code",
   "execution_count": 0,
   "metadata": {
    "colab": {},
    "colab_type": "code",
    "id": "CpRFM9997d1o"
   },
   "outputs": [],
   "source": [
    "# タプルとリストの違いはなんですか？記述問題ですのでコードは不要です。"
   ]
  },
  {
   "cell_type": "code",
   "execution_count": 0,
   "metadata": {
    "colab": {},
    "colab_type": "code",
    "id": "pcfb-4YLKdKk"
   },
   "outputs": [],
   "source": [
    "# tをリストにしてください\n"
   ]
  },
  {
   "cell_type": "code",
   "execution_count": 0,
   "metadata": {
    "colab": {},
    "colab_type": "code",
    "id": "ON1uILQY7kwx"
   },
   "outputs": [],
   "source": []
  },
  {
   "cell_type": "markdown",
   "metadata": {
    "colab_type": "text",
    "id": "u1Yih3t3KbN1"
   },
   "source": [
    "## セット\n",
    "\n"
   ]
  },
  {
   "cell_type": "code",
   "execution_count": 0,
   "metadata": {
    "colab": {},
    "colab_type": "code",
    "id": "lOmXpQYE8Ky7"
   },
   "outputs": [],
   "source": [
    "# 空のセット s を作成"
   ]
  },
  {
   "cell_type": "code",
   "execution_count": 0,
   "metadata": {
    "colab": {},
    "colab_type": "code",
    "id": "M-Ch5cml8VJt"
   },
   "outputs": [],
   "source": [
    "# s に \"apple\" \"orange\" \"banana\" をそれそれ追加"
   ]
  },
  {
   "cell_type": "code",
   "execution_count": 0,
   "metadata": {
    "colab": {},
    "colab_type": "code",
    "id": "XjT0apI48e49"
   },
   "outputs": [],
   "source": [
    "# セットとはなんですか？記述問題ですのでコードは不要です。答えをコメントで書いてください"
   ]
  },
  {
   "cell_type": "code",
   "execution_count": 0,
   "metadata": {
    "colab": {},
    "colab_type": "code",
    "id": "0HaasguN8oQz"
   },
   "outputs": [],
   "source": [
    "# l からセット s1 を作成\n",
    "l = ['W', 'L', 'D', 'I', 'T', 'H', 'J', 'A', 'W', 'E', 'B', 'S', 'A']"
   ]
  },
  {
   "cell_type": "code",
   "execution_count": 0,
   "metadata": {
    "colab": {},
    "colab_type": "code",
    "id": "-8gDnJwq9Aqb"
   },
   "outputs": [],
   "source": [
    "# l に A があるか確認"
   ]
  },
  {
   "cell_type": "code",
   "execution_count": 0,
   "metadata": {
    "colab": {},
    "colab_type": "code",
    "id": "uBfbCkif88A4"
   },
   "outputs": [],
   "source": [
    "# l に X があるか確認"
   ]
  },
  {
   "cell_type": "markdown",
   "metadata": {
    "colab_type": "text",
    "id": "3DoNp2-zLQFf"
   },
   "source": [
    "## 繰り返し"
   ]
  },
  {
   "cell_type": "code",
   "execution_count": 0,
   "metadata": {
    "colab": {},
    "colab_type": "code",
    "id": "6-N8C1kf-CFS"
   },
   "outputs": [],
   "source": [
    "# names を一つずつprint \n",
    "names = ['Gretta', 'Lorin', 'Keslie', 'Chandra', 'Matthew', 'Klement', 'Delmer', 'Kordula', 'Obediah', 'Goldia']"
   ]
  },
  {
   "cell_type": "code",
   "execution_count": 0,
   "metadata": {
    "colab": {},
    "colab_type": "code",
    "id": "gIb8uugq-iOB"
   },
   "outputs": [],
   "source": [
    "# names の インデックス番号と名前を print "
   ]
  },
  {
   "cell_type": "code",
   "execution_count": 0,
   "metadata": {
    "colab": {},
    "colab_type": "code",
    "id": "6jNvG74o_W_0"
   },
   "outputs": [],
   "source": [
    "# nums を足し合わせる.ただし forと + を使って足し算する。\n",
    "nums = [63, 47, 22, 73, 1, 3, 2, 65, 51, 26]\n"
   ]
  },
  {
   "cell_type": "code",
   "execution_count": 0,
   "metadata": {
    "colab": {},
    "colab_type": "code",
    "id": "Sl4c6jwWABt0"
   },
   "outputs": [],
   "source": [
    "# nums の平均を計算\n",
    "nums = [63, 47, 22, 73, 1, 3, 2, 65, 51, 26]\n",
    "\n"
   ]
  },
  {
   "cell_type": "code",
   "execution_count": 0,
   "metadata": {
    "colab": {},
    "colab_type": "code",
    "id": "cf65kJZlAo8M"
   },
   "outputs": [],
   "source": [
    "# 辞書 ids を 一つずつprint\n",
    "ids = {'Augustine': '6110405175',\n",
    " 'Chariot': '5146777675',\n",
    " 'Deena': '2640161407',\n",
    " 'Helenka': '1478588217',\n",
    " 'Kaylyn': '2823236899',\n",
    " 'Kiah': '0754913368',\n",
    " 'Marleen': '4410465813',\n",
    " 'Randene': '2826605437',\n",
    " 'Roscoe': '2004843543',\n",
    " 'Thurstan': '8284428458'}\n",
    "\n"
   ]
  },
  {
   "cell_type": "code",
   "execution_count": 0,
   "metadata": {
    "colab": {},
    "colab_type": "code",
    "id": "b6XB37KYCj6-"
   },
   "outputs": [],
   "source": [
    "# ids の 値だけ取得して平均を出す"
   ]
  },
  {
   "cell_type": "code",
   "execution_count": 0,
   "metadata": {
    "colab": {},
    "colab_type": "code",
    "id": "CpRW-cWPC-6-"
   },
   "outputs": [],
   "source": [
    "# リスト内包期を使って、nums の各要素に100を掛けたリストを返す\n",
    "nums = [63, 47, 22, 73, 1, 3, 2, 65, 51, 26]"
   ]
  },
  {
   "cell_type": "markdown",
   "metadata": {
    "colab_type": "text",
    "id": "OguuzVr5KoH0"
   },
   "source": [
    "## 条件分岐"
   ]
  },
  {
   "cell_type": "code",
   "execution_count": 0,
   "metadata": {
    "colab": {},
    "colab_type": "code",
    "id": "ds0sENH3DA6B"
   },
   "outputs": [],
   "source": [
    "# 以下 if 文で記述してください\n",
    "# x と y を比べて、もし x が大きければ、print(x)、yが大きければ print(y)する\n",
    "x = 100\n",
    "y = 200"
   ]
  },
  {
   "cell_type": "code",
   "execution_count": 0,
   "metadata": {
    "colab": {},
    "colab_type": "code",
    "id": "ZcO5i6ZWDU1V"
   },
   "outputs": [],
   "source": [
    "# 以下 if 文で記述してください\n",
    "# x, y, z を比べて、一番大きい値を print\n",
    "x = 100\n",
    "y = 200\n",
    "z = 150\n"
   ]
  },
  {
   "cell_type": "code",
   "execution_count": 0,
   "metadata": {
    "colab": {},
    "colab_type": "code",
    "id": "Usn_XMBPGq0E"
   },
   "outputs": [],
   "source": [
    "# cars リストから、\"Mitsubishi\" の所有者だけprint \n",
    "cars = [{'car': 'Volvo', 'email': 'abert0@nsw.gov.au', 'first_name': 'Anthe'}, {'car': 'Mercury', 'email': 'kloughren1@examiner.com', 'first_name': 'Karna'},\n",
    "        {'car': 'Mitsubishi', 'email': 'jrenfield2@rambler.ru',  'first_name': 'Johnnie'}, {'car': 'Chevrolet',  'email': 'cbubbings3@google.co.uk', 'first_name': 'Cynthy'},\n",
    "        {'car': 'Mazda',  'email': 'psafhill4@statcounter.com', 'first_name': 'Pollyanna'}, {'car': 'Mitsubishi', 'email': 'xborrow5@utexas.edu', 'first_name': 'Xylina'},\n",
    "        {'car': 'Cadillac',  'email': 'tlanegran6@seattletimes.com',  'first_name': 'Toddy'}, {'car': 'Saturn', 'email': 'ltreslove7@ucla.edu', 'first_name': 'Lionello'},\n",
    "        {'car': 'Audi', 'email': 'ybroomhead8@xing.com', 'first_name': 'Yankee'}, {'car': 'Plymouth', 'email': 'nmattedi9@cdc.gov', 'first_name': 'Nonnah'}]\n"
   ]
  },
  {
   "cell_type": "code",
   "execution_count": 0,
   "metadata": {
    "colab": {},
    "colab_type": "code",
    "id": "8HCPqGbKWZrT"
   },
   "outputs": [],
   "source": [
    "# aが０より大きい場合はxを、そうではない場合はyを代入した変数ｚを作成してください。ただしコードは一行で書いてください。\n",
    "a = 10\n",
    "x = 100\n",
    "y = 200\n"
   ]
  },
  {
   "cell_type": "code",
   "execution_count": 0,
   "metadata": {
    "colab": {},
    "colab_type": "code",
    "id": "JngWInWwXHS7"
   },
   "outputs": [],
   "source": [
    "# while を使って x が５より小さくなるまで１ずつ引き算してください。５より小さくなった場合は、”Done”とプリントして、プログラムを終了してください\n",
    "x = 10 "
   ]
  },
  {
   "cell_type": "code",
   "execution_count": 0,
   "metadata": {
    "colab": {},
    "colab_type": "code",
    "id": "CaeZfAtYYL-4"
   },
   "outputs": [],
   "source": [
    "# names で、8文字以上の名前であれば\"Long Name\", 4文字以下であれば\"Short Name\" とプリントしてください。ただし、名前が'BABA'だった場合、\"Stop\" とプリントしてプログラムを停止してください。\n",
    "names = ['Donni', 'Elle', 'Matthaeus', 'Parke', 'Tania', 'Germaine', 'Linnea', 'Annamaria', 'Crissy', \n",
    "         'Martina', 'Care', 'Ethan', 'Ambur', 'Stacy', 'Hewet', 'BABA', 'Roxanna', 'Layton', 'Byran', 'Marian', 'Alene']\n",
    "         "
   ]
  },
  {
   "cell_type": "code",
   "execution_count": 0,
   "metadata": {
    "colab": {},
    "colab_type": "code",
    "id": "QWhTmHNsaU96"
   },
   "outputs": [],
   "source": [
    "# xに入っている要素で y を割って余りを出力してください。例外が発生した場合は、例外メッセージを出力して途中でプログラムが終わらないようにしてください。\n",
    "# 最後まで終わったら、”Done”と出力してください\n",
    "y = 10 \n",
    "x = [3, 4, 1, 4, 4, 2, 0, 4, 2, 0]\n",
    "\n",
    "\n"
   ]
  },
  {
   "cell_type": "code",
   "execution_count": 0,
   "metadata": {
    "colab": {},
    "colab_type": "code",
    "id": "q4X7nhd_fgF1"
   },
   "outputs": [],
   "source": []
  },
  {
   "cell_type": "markdown",
   "metadata": {
    "colab_type": "text",
    "id": "eHB19B3mLg1x"
   },
   "source": [
    ",\n",
    "## python に関する知識\n",
    "\n",
    "以下は python に出てくる言葉についての問題です．\n",
    "\n",
    "コメントで解答して下さい．もちろんコードを書いて解答したほうが答えやすい場合は，ドンドン書いて下さい\n",
    "\n"
   ]
  },
  {
   "cell_type": "code",
   "execution_count": 0,
   "metadata": {
    "colab": {},
    "colab_type": "code",
    "id": "ZGCcTDhbI6SN"
   },
   "outputs": [],
   "source": [
    "#  python の オブジェクト とは何ですか？\n"
   ]
  },
  {
   "cell_type": "code",
   "execution_count": 0,
   "metadata": {
    "colab": {},
    "colab_type": "code",
    "id": "I1NJjkyyJeu3"
   },
   "outputs": [],
   "source": [
    "# python の メソッドとは何ですか？"
   ]
  },
  {
   "cell_type": "code",
   "execution_count": 0,
   "metadata": {
    "colab": {},
    "colab_type": "code",
    "id": "Ny2Qwa7DJiZx"
   },
   "outputs": [],
   "source": [
    "# python の 関数とは何ですか？"
   ]
  },
  {
   "cell_type": "code",
   "execution_count": 0,
   "metadata": {
    "colab": {},
    "colab_type": "code",
    "id": "RZax5OZeJ5kg"
   },
   "outputs": [],
   "source": [
    "# データ型とは何ですか？\n"
   ]
  }
 ],
 "metadata": {
  "colab": {
   "collapsed_sections": [],
   "name": "elementary.ipynb",
   "provenance": [],
   "toc_visible": true
  },
  "kernelspec": {
   "display_name": "Python 3",
   "language": "python",
   "name": "python3"
  },
  "language_info": {
   "codemirror_mode": {
    "name": "ipython",
    "version": 3
   },
   "file_extension": ".py",
   "mimetype": "text/x-python",
   "name": "python",
   "nbconvert_exporter": "python",
   "pygments_lexer": "ipython3",
   "version": "3.6.11"
  },
  "toc": {
   "base_numbering": 1,
   "nav_menu": {},
   "number_sections": true,
   "sideBar": true,
   "skip_h1_title": false,
   "title_cell": "Table of Contents",
   "title_sidebar": "Contents",
   "toc_cell": false,
   "toc_position": {},
   "toc_section_display": true,
   "toc_window_display": false
  }
 },
 "nbformat": 4,
 "nbformat_minor": 1
}
