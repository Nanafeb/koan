{
 "cells": [
  {
   "cell_type": "markdown",
   "metadata": {
    "colab_type": "text",
    "id": "w4Gk07DXi0nf"
   },
   "source": [
    "# Koan Easy \n",
    "\n",
    "+ elementaryよりもちょっと複雑な問題集\n",
    "+ ライブラリをインポートしなくても使える関数を使った問題\n",
    "+ オブジェクトが持つメソッドをドンドン使う問題\n",
    "+ 簡単な関数やクラス定義\n",
    "\n",
    "+ 2019/10/03 Last Updated\n"
   ]
  },
  {
   "cell_type": "code",
   "execution_count": 0,
   "metadata": {
    "colab": {},
    "colab_type": "code",
    "id": "-_79uVPrioEE"
   },
   "outputs": [],
   "source": [
    "\n",
    "# 問題はコメントで書きます．その下にコードを書いて下さい\n",
    "\n",
    "# 問題例\n",
    "# Hello を print してください\n",
    "\n",
    "print(\"Hello\")"
   ]
  },
  {
   "cell_type": "markdown",
   "metadata": {
    "colab_type": "text",
    "id": "67ZwLUXuoHtB"
   },
   "source": [
    "## コレクションを扱う問題\n",
    "\n",
    "+ 複数のデータ型をひとまとめに扱うことが出来る\n",
    "+ リスト（list）、タプル（tuple）、辞書（dict）、集合（set）\n"
   ]
  },
  {
   "cell_type": "markdown",
   "metadata": {
    "colab_type": "text",
    "id": "hJQqYV2bszMm"
   },
   "source": [
    "## リスト"
   ]
  },
  {
   "cell_type": "code",
   "execution_count": 0,
   "metadata": {
    "colab": {},
    "colab_type": "code",
    "id": "PBUOtADvoJs-"
   },
   "outputs": [],
   "source": [
    "# 1から10の整数をリストで表示して下さい\n",
    "# ただし range 関数を使うこと"
   ]
  },
  {
   "cell_type": "code",
   "execution_count": 0,
   "metadata": {
    "colab": {},
    "colab_type": "code",
    "id": "i2lJxYKgoro-"
   },
   "outputs": [],
   "source": [
    "# AからG のアルファベットをリストで表示して下さい\n",
    "# ただし list 関数を使い，引数は一つだけ渡すこと"
   ]
  },
  {
   "cell_type": "code",
   "execution_count": 0,
   "metadata": {
    "colab": {},
    "colab_type": "code",
    "id": "DCiwbedD1j_z"
   },
   "outputs": [],
   "source": [
    "# 以下の x と y をつなげて一つのリスト [1,2,3,4]にしてください。\n",
    "# ただし リストのメソッド関数を使うこと\n",
    "# x + y  ではダメ\n",
    "\n",
    "x = [1,2]\n",
    "y = [3,4]\n",
    "\n"
   ]
  },
  {
   "cell_type": "code",
   "execution_count": 0,
   "metadata": {
    "colab": {},
    "colab_type": "code",
    "id": "byMk2SjlhNAi"
   },
   "outputs": [],
   "source": [
    "# 以下の x と yを使って、[1,2,[3,4]] を作成してください\n",
    "x = [1,2]\n",
    "y = [3,4]\n"
   ]
  },
  {
   "cell_type": "code",
   "execution_count": 0,
   "metadata": {
    "colab": {},
    "colab_type": "code",
    "id": "8ZhJXL-rply9"
   },
   "outputs": [],
   "source": [
    "# 組み込み関数と使って、以下のリストは全てTrueか確認\n",
    "x = [True, True, True]\n",
    "\n",
    "y = [1,1,0]"
   ]
  },
  {
   "cell_type": "code",
   "execution_count": 0,
   "metadata": {
    "colab": {},
    "colab_type": "code",
    "id": "_LkHXyjvqE14"
   },
   "outputs": [],
   "source": [
    "# 組み込み関数と使って、以下のリストはFalseを含むか\n",
    "x = [True, True, False]\n",
    "y = [1,1,1]\n",
    "\n"
   ]
  },
  {
   "cell_type": "code",
   "execution_count": 0,
   "metadata": {
    "colab": {},
    "colab_type": "code",
    "id": "CQYDru8ndkd0"
   },
   "outputs": [],
   "source": [
    "# 0から50の整数リスト l を作成してください"
   ]
  },
  {
   "cell_type": "code",
   "execution_count": 0,
   "metadata": {
    "colab": {},
    "colab_type": "code",
    "id": "E499Luhxdrba"
   },
   "outputs": [],
   "source": [
    "# 0から50の整数リスト l を作成して、全部出しあわせてください。"
   ]
  },
  {
   "cell_type": "code",
   "execution_count": 0,
   "metadata": {
    "colab": {},
    "colab_type": "code",
    "id": "KGHf-8qWoZf4"
   },
   "outputs": [],
   "source": [
    "# x の 絶対値、整数値、5乗、丸めた整数、を組み込み関数を使って取得し、タプルで返す\n",
    "x = -500.123\n"
   ]
  },
  {
   "cell_type": "markdown",
   "metadata": {
    "colab_type": "text",
    "id": "y-9Vi_Aus31U"
   },
   "source": [
    "## 辞書"
   ]
  },
  {
   "cell_type": "code",
   "execution_count": 0,
   "metadata": {
    "colab": {},
    "colab_type": "code",
    "id": "qQEHZJusst1b"
   },
   "outputs": [],
   "source": [
    "# dict と zip 関数を使って、辞書　{'A': 1, 'B': 2, 'C': 3}　を作成し、変数 d に格納してください\n",
    "d = {'A': 1, 'B': 2, 'C': 3}\n"
   ]
  },
  {
   "cell_type": "code",
   "execution_count": 0,
   "metadata": {
    "colab": {},
    "colab_type": "code",
    "id": "4oeJzswSujBa"
   },
   "outputs": [],
   "source": [
    "# d の要素数（つまり３）を取得してください。\n"
   ]
  },
  {
   "cell_type": "code",
   "execution_count": 0,
   "metadata": {
    "colab": {},
    "colab_type": "code",
    "id": "Y6K_IByvu6xb"
   },
   "outputs": [],
   "source": [
    "# d のすべての項目を削除してください\n"
   ]
  },
  {
   "cell_type": "markdown",
   "metadata": {
    "colab_type": "text",
    "id": "skldXy9Js67X"
   },
   "source": [
    "## タプル"
   ]
  },
  {
   "cell_type": "code",
   "execution_count": 0,
   "metadata": {
    "colab": {},
    "colab_type": "code",
    "id": "jeVoXpSsqjpJ"
   },
   "outputs": [],
   "source": [
    "# 1,2,3 の要素を持つタプル t を作成してください。"
   ]
  },
  {
   "cell_type": "code",
   "execution_count": 0,
   "metadata": {
    "colab": {},
    "colab_type": "code",
    "id": "FNjn256kq1Dr"
   },
   "outputs": [],
   "source": [
    "# タプルを使うと、要素を一行で変数に格納出来ます。t を使って、変数 a,b,c にそれぞれ 1,2,3 を格納してください。"
   ]
  },
  {
   "cell_type": "markdown",
   "metadata": {
    "colab_type": "text",
    "id": "We-QHqSBs9nw"
   },
   "source": [
    "## セット"
   ]
  },
  {
   "cell_type": "code",
   "execution_count": 0,
   "metadata": {
    "colab": {},
    "colab_type": "code",
    "id": "KbeJJSp_rpwW"
   },
   "outputs": [],
   "source": [
    "# fruits を使って、セット s1 を作ってください。\n",
    "fruits = ['apple', 'orange', 'apple', 'pear', 'orange', 'banana', 'cherry']\n"
   ]
  },
  {
   "cell_type": "code",
   "execution_count": 0,
   "metadata": {
    "colab": {},
    "colab_type": "code",
    "id": "VPdyT93tsG7o"
   },
   "outputs": [],
   "source": [
    "# s1 には、'apple'が入っているかどうか 真偽値で返してください"
   ]
  },
  {
   "cell_type": "code",
   "execution_count": 0,
   "metadata": {
    "colab": {},
    "colab_type": "code",
    "id": "J_2JYcOpsikD"
   },
   "outputs": [],
   "source": [
    "# s1 には、'ringo'が入っていないことを 真偽値で返してください\n"
   ]
  },
  {
   "cell_type": "code",
   "execution_count": 0,
   "metadata": {
    "colab": {},
    "colab_type": "code",
    "id": "hpmN9Otrsm4E"
   },
   "outputs": [],
   "source": [
    "# fruits2 を使って、セット s2 を作ってください。\n",
    "fruits2 = ['applicot', 'orange', 'apple', 'pear', 'orange', 'banana', 'blackberries']\n"
   ]
  },
  {
   "cell_type": "code",
   "execution_count": 0,
   "metadata": {
    "colab": {},
    "colab_type": "code",
    "id": "M3_w7P0hs2sb"
   },
   "outputs": [],
   "source": [
    "# s1 と s2 に共通して入っている果物を出力してください。出力結果(順不同)：{'apple', 'banana', 'orange', 'pear'}\n"
   ]
  },
  {
   "cell_type": "code",
   "execution_count": 0,
   "metadata": {
    "colab": {},
    "colab_type": "code",
    "id": "mMYGlEyytVbV"
   },
   "outputs": [],
   "source": [
    "# s1 と s2 にどちらか一方に入っている果物を出力してください。出力結果(順不同)：{'apple', 'applicot', 'banana', 'blackberries', 'cherry', 'orange', 'pear'}"
   ]
  },
  {
   "cell_type": "code",
   "execution_count": 0,
   "metadata": {
    "colab": {},
    "colab_type": "code",
    "id": "_Nk6shjBtiA9"
   },
   "outputs": [],
   "source": [
    "# s2 には入っているけど、 s1 には入っていない果物を出力してください。出力結果(順不同)：{'applicot', 'blackberries'}\n"
   ]
  },
  {
   "cell_type": "code",
   "execution_count": 0,
   "metadata": {
    "colab": {},
    "colab_type": "code",
    "id": "zWUMD9Estsj-"
   },
   "outputs": [],
   "source": [
    "# s1 もしくは s2 に入っている果物を出力してください。出力結果(順不同): {'applicot', 'blackberries', 'cherry'}"
   ]
  },
  {
   "cell_type": "markdown",
   "metadata": {
    "colab_type": "text",
    "id": "Sn26b2z0u0Vf"
   },
   "source": [
    "## 関数定義 "
   ]
  },
  {
   "cell_type": "code",
   "execution_count": 0,
   "metadata": {
    "colab": {},
    "colab_type": "code",
    "id": "NN0_34ddu7Gy"
   },
   "outputs": [],
   "source": [
    "# 実行すると \"HOGE!\" をプリントする関数 hoge を定義してください。"
   ]
  },
  {
   "cell_type": "code",
   "execution_count": 0,
   "metadata": {
    "colab": {},
    "colab_type": "code",
    "id": "JEcBnotCvDV4"
   },
   "outputs": [],
   "source": [
    "# 引数 name を引き取り、\"Hello <name> さん!\" と出力する関数 hello を定義してください。"
   ]
  },
  {
   "cell_type": "code",
   "execution_count": 0,
   "metadata": {
    "colab": {},
    "colab_type": "code",
    "id": "UC0vM5HjvTqs"
   },
   "outputs": [],
   "source": [
    "# 引数 name を引き取り、<name> が s で始める名前であれば、\"Hello Mr. <name> さん!\", m で始める名前であれば、\"Hello Miss. <name> さん!\" ,  k で始める名前であれば、\"Hello Ms. <name> さん!\", それ以外であれば、\n",
    "# \"Hello <name> さん!\" と出力する関数 hello2 を定義してください。"
   ]
  }
 ],
 "metadata": {
  "colab": {
   "collapsed_sections": [],
   "name": "easy.ipynb",
   "provenance": [],
   "toc_visible": true
  },
  "kernelspec": {
   "display_name": "Python 3",
   "language": "python",
   "name": "python3"
  },
  "language_info": {
   "codemirror_mode": {
    "name": "ipython",
    "version": 3
   },
   "file_extension": ".py",
   "mimetype": "text/x-python",
   "name": "python",
   "nbconvert_exporter": "python",
   "pygments_lexer": "ipython3",
   "version": "3.6.11"
  },
  "toc": {
   "base_numbering": 1,
   "nav_menu": {},
   "number_sections": true,
   "sideBar": true,
   "skip_h1_title": false,
   "title_cell": "Table of Contents",
   "title_sidebar": "Contents",
   "toc_cell": false,
   "toc_position": {},
   "toc_section_display": true,
   "toc_window_display": false
  }
 },
 "nbformat": 4,
 "nbformat_minor": 1
}
