{
 "cells": [
  {
   "cell_type": "markdown",
   "metadata": {
    "colab_type": "text",
    "id": "WSc9MXbmpxFn"
   },
   "source": [
    "# Koan Hard\n",
    "\n",
    "かなりpython に慣れてきた人向けの問題です．\n",
    "必要であれば，サードパーティが作ったライブラリも利用して問題を解いて行きましょう．\n",
    "\n"
   ]
  },
  {
   "cell_type": "markdown",
   "metadata": {
    "colab_type": "text",
    "id": "K7kNvcXOnfT6"
   },
   "source": [
    "## P-001\n",
    "scores を成績順に並べ替えて， 成績の良い順から 名前と点数をprintして下さい"
   ]
  },
  {
   "cell_type": "code",
   "execution_count": 14,
   "metadata": {
    "colab": {},
    "colab_type": "code",
    "id": "dBSlEggJnkCE"
   },
   "outputs": [],
   "source": [
    "scores ={'Bigley': 9, 'Brigid': 58, 'Casandra': 48, 'Clora': 11, 'Coy': 50, 'Halley': 46, 'Helga': 54, 'Isaura': 99, 'Kinsel': 97, 'Lauretta': 40, \n",
    "         'Levar': 40, 'Macken': 57, 'Mcfarlin': 64, 'Mcphee': 25, 'Rodney': 84, 'Scalf': 92, 'Scally': 54, 'Vandever': 53, 'Vasiliki': 76, 'Weight': 86}\n"
   ]
  },
  {
   "cell_type": "markdown",
   "metadata": {},
   "source": [
    "## P-002\n",
    "scores を名前順に並べ替えて， 各生徒に数値IDを割り振って下さい．\n",
    "その後， \"name\", \"score\",\"id\" をキーワードに持つ辞書を作成し，新しいリスト new_scores として返してください．\n",
    "\n",
    "```python\n",
    "print(new_score)\n",
    "[{\"name\": \"Bigley\", \"score\": 9, \"id\": 1}, {\"name\": \"Brigid\", \"score\": 58, \"id\": 2}, ...]\n",
    "```"
   ]
  },
  {
   "cell_type": "code",
   "execution_count": null,
   "metadata": {},
   "outputs": [],
   "source": []
  },
  {
   "cell_type": "markdown",
   "metadata": {},
   "source": [
    "## P-003 \n",
    "rows を uid 順に並べ替えて，fnameとlnameをprintして下さい"
   ]
  },
  {
   "cell_type": "code",
   "execution_count": 16,
   "metadata": {},
   "outputs": [],
   "source": [
    "rows = [\n",
    "    {'fname': 'Brian', 'lname': 'Jones', 'uid': 1003},\n",
    "    {'fname': 'David', 'lname': 'Beazley', 'uid': 1002},\n",
    "    {'fname': 'John', 'lname': 'Cleese', 'uid': 1001},\n",
    "    {'fname': 'Big', 'lname': 'Jones', 'uid': 1004}\n",
    "]\n"
   ]
  },
  {
   "cell_type": "markdown",
   "metadata": {},
   "source": [
    "## P-004\n",
    "\n",
    "(x,y)の2つの要素を持つタプルを複数持つリスト points があります．\n",
    "x - y の差で並べ替えて新しいリスト new_points を作成して下さい"
   ]
  },
  {
   "cell_type": "code",
   "execution_count": 17,
   "metadata": {},
   "outputs": [],
   "source": [
    "points = [ (1, 2), (9, 4), (5, 13), (1, 7) ]\n"
   ]
  },
  {
   "cell_type": "markdown",
   "metadata": {},
   "source": [
    "## P-005\n",
    "`番地 区画 住所` という文字列の住所リストを番地の小さい順に並べ替えた新しいリスト new_addresses を返して下さい"
   ]
  },
  {
   "cell_type": "code",
   "execution_count": null,
   "metadata": {},
   "outputs": [],
   "source": [
    "addresses = [\n",
    "    '5412 N CLARK',\n",
    "    '5148 N CLARK', \n",
    "    '5800 E 58TH',\n",
    "    '2122 N CLARK',\n",
    "    '5645 N RAVENSWOOD',\n",
    "    '1060 W ADDISON',\n",
    "    '4801 N BROADWAY',\n",
    "    '1039 W GRANVILLE',\n",
    "]"
   ]
  },
  {
   "cell_type": "markdown",
   "metadata": {},
   "source": [
    "## P-006\n",
    "株数と価格から買い持ちポジション価格（株価×株数）を出し，portfolio に閉める割合を \"ratio\" キーで辞書に挿入し新しいリスト new_portfolio を返して下さい\n"
   ]
  },
  {
   "cell_type": "code",
   "execution_count": null,
   "metadata": {},
   "outputs": [],
   "source": [
    "portfolio = [\n",
    "   {'name': 'IBM', 'shares': 100, 'price': 91.1},\n",
    "   {'name': 'AAPL', 'shares': 50, 'price': 543.22},\n",
    "   {'name': 'FB', 'shares': 200, 'price': 21.09},\n",
    "   {'name': 'HPQ', 'shares': 35, 'price': 31.75},\n",
    "   {'name': 'YHOO', 'shares': 45, 'price': 16.35},\n",
    "   {'name': 'ACME', 'shares': 75, 'price': 115.65}\n",
    "]"
   ]
  },
  {
   "cell_type": "markdown",
   "metadata": {},
   "source": [
    "## P-007\n",
    "rows の 'date' を文字列からNewYorkタイムゾーンを持つDatetime型に変換して下さい．現在の日付は”月/日/年”で並んでいるものとします．\n"
   ]
  },
  {
   "cell_type": "code",
   "execution_count": 33,
   "metadata": {},
   "outputs": [],
   "source": [
    "rows = [\n",
    "    {'address': '5412 N CLARK', 'date': '07/01/2012'},\n",
    "    {'address': '5148 N CLARK', 'date': '07/04/2012'},\n",
    "    {'address': '5800 E 58TH', 'date': '07/02/2012'},\n",
    "    {'address': '2122 N CLARK', 'date': '07/03/2012'},\n",
    "    {'address': '5645 N RAVENSWOOD', 'date': '07/02/2012'},\n",
    "    {'address': '1060 W ADDISON', 'date': '07/02/2012'},\n",
    "    {'address': '4801 N BROADWAY', 'date': '07/01/2012'},\n",
    "    {'address': '1039 W GRANVILLE', 'date': '07/04/2012'},\n",
    "]\n"
   ]
  },
  {
   "cell_type": "markdown",
   "metadata": {},
   "source": [
    "## P-008\n",
    "sentence を 単語毎に分け頻出頻度と単語を持つタプルリスト `word_list` を作成し，頻出回数が多い順に並べ替えて下さい．大文字小文字は考慮しません．複数形や過去形などの変形は１単語として別に扱って構いません．（つまり is と was は別単語）．カンマやピリオドは数えないで下さい．\n",
    "ちなみに sentence は，[South Park - Wikipedia](https://en.wikipedia.org/wiki/South_Park)からお借りしました"
   ]
  },
  {
   "cell_type": "code",
   "execution_count": null,
   "metadata": {},
   "outputs": [],
   "source": [
    "sentence = \"\"\"South Park is an American animated sitcom created by Trey Parker and Matt Stone and developed by Brian Graden for Comedy Central. The series revolves around four boys—Stan Marsh, Kyle Broflovski, Eric Cartman, and Kenny McCormick—and their exploits in and around the titular Colorado town. The show became infamous for its profanity and dark, surreal humor that satirizes a wide range of topics towards a mature audience.\n",
    "\n",
    "Parker and Stone developed the show from The Spirit of Christmas, two consecutive animated shorts. The latter became one of the first Internet viral videos, ultimately leading to South Park's production. The pilot episode was produced using cutout animation, leading to all subsequent episodes being produced with computer animation that emulated the cutout technique. South Park features a very large ensemble cast of recurring characters.\n",
    "\n",
    "Since its debut on August 13, 1997, 308 episodes of South Park have been broadcast. It debuted with great success, consistently earning the highest ratings of any basic cable program. Subsequent ratings have varied but it remains one of Comedy Central's highest-rated shows and is slated to air new episodes through 2022. Since 2000, each episode has typically been written and produced in the week preceding its broadcast, with Parker serving as the primary writer and director. A one-hour special episode, titled \"The Pandemic Special\", premiered on September 30, 2020.\n",
    "\n",
    "South Park has received numerous accolades, including five Primetime Emmy Awards, a Peabody Award, and numerous inclusions in various publications' lists of greatest television shows. The show's popularity resulted in a feature-length theatrical film, South Park: Bigger, Longer & Uncut which was released in June 1999, less than two years after the show's premiere, and became a commercial and critical success, and garnered a nomination for an Academy Award. In 2013, TV Guide ranked South Park the tenth Greatest TV Cartoon of All Time.\"\"\""
   ]
  },
  {
   "cell_type": "markdown",
   "metadata": {},
   "source": [
    "## P-009\n",
    "text から日付データらしきところを探し，日数差をだして下さい．そして， \"Count down! ~~ days\" という文字列を追加した新しい文字列 new_text を返して下さい\n",
    "つまり， new_text は `Today is 11/27/2012. PyCon starts 3/13/2013. Count down! 106 days` を持ちます．"
   ]
  },
  {
   "cell_type": "code",
   "execution_count": 44,
   "metadata": {},
   "outputs": [],
   "source": [
    "text = 'Today is 11/27/2012. PyCon starts 3/13/2013.'\n"
   ]
  },
  {
   "cell_type": "markdown",
   "metadata": {},
   "source": [
    "## P-010\n",
    "引数に day を取って，今日からの日数を返す関数 `get_days` を買いて下さい．ただし day は文字列の日付としてます\n"
   ]
  },
  {
   "cell_type": "code",
   "execution_count": null,
   "metadata": {},
   "outputs": [],
   "source": [
    "def get_days(day):\n",
    "    pass "
   ]
  },
  {
   "cell_type": "markdown",
   "metadata": {},
   "source": [
    "## P-011\n",
    "`/static/access-log` ファイルを読み込み，GETして来たIPアドレスを数え，(IP address, 回数) のタプルリストを返して下さい．\n"
   ]
  },
  {
   "cell_type": "markdown",
   "metadata": {},
   "source": [
    "## P-012\n",
    "`/static/access-log` ファイルを読み込み，404の回数と 200の回数を数えて出力して下さい．"
   ]
  },
  {
   "cell_type": "markdown",
   "metadata": {},
   "source": [
    "## P-013\n",
    "`/static/access-log` ファイルを読み込み， `GET /python/tutorial/beazley_advanced_python/Slides/SLIDE119.HTM HTTP/1.0` して来た回数が多い IP アドレスを出力して下さい"
   ]
  },
  {
   "cell_type": "markdown",
   "metadata": {},
   "source": [
    "## P-014\n",
    "\n",
    "2つの日付の間にある営業日を数える関数， japanworkdays を作成して下さい．カレンダーは日本の暦を使うこと．"
   ]
  },
  {
   "cell_type": "code",
   "execution_count": null,
   "metadata": {},
   "outputs": [],
   "source": [
    "def japanworkdays(d1, d2,):\n",
    "    pass "
   ]
  },
  {
   "cell_type": "markdown",
   "metadata": {},
   "source": [
    "## P-015\n",
    "\n",
    "2つの日付の間にある営業日を数える関数， workdays を作成して下さい．ただしカレンダーを選べるようにして下さい．\n",
    "\n",
    "恐らくサードパーティが提供しているカレンダーライブラリを使う必要があると思います．適宜インストールして使って下さい．\n"
   ]
  },
  {
   "cell_type": "code",
   "execution_count": null,
   "metadata": {},
   "outputs": [],
   "source": [
    "def workdays(d1, d2, calendar):\n",
    "    pass "
   ]
  },
  {
   "cell_type": "markdown",
   "metadata": {},
   "source": [
    "## P-016\n",
    "\n",
    "日時を，とある国から別の国のタイムゾーンに変換する関数， `convert_timezone` を作成して下さい．引数は下記の通りで，返り値はDatetime型の日時データを返して下さい．\n"
   ]
  },
  {
   "cell_type": "code",
   "execution_count": null,
   "metadata": {},
   "outputs": [],
   "source": [
    "def convert_timezone(s_datetime, from_tz, to_tz):\n",
    "    \"\"\"\n",
    "    s_datetime ；　日時を表す文字列．フォーマットは YYYY/mm/dd HH:MM 例2020/10/08 20:00\n",
    "    from_tz: 元の国の timezone 名\n",
    "    to_tz: 変換先の国の timezone 名\n",
    "    \n",
    "    \"\"\"\n",
    "    pass \n"
   ]
  },
  {
   "cell_type": "markdown",
   "metadata": {},
   "source": [
    "## P-017\n",
    "\n"
   ]
  },
  {
   "cell_type": "code",
   "execution_count": 30,
   "metadata": {},
   "outputs": [],
   "source": [
    "## P-018\n"
   ]
  },
  {
   "cell_type": "code",
   "execution_count": 32,
   "metadata": {},
   "outputs": [],
   "source": [
    "## P-019\n"
   ]
  },
  {
   "cell_type": "code",
   "execution_count": null,
   "metadata": {},
   "outputs": [],
   "source": [
    "## P-020"
   ]
  }
 ],
 "metadata": {
  "colab": {
   "name": "hard.ipynb",
   "provenance": [],
   "toc_visible": true
  },
  "kernelspec": {
   "display_name": "Python 3",
   "language": "python",
   "name": "python3"
  },
  "language_info": {
   "codemirror_mode": {
    "name": "ipython",
    "version": 3
   },
   "file_extension": ".py",
   "mimetype": "text/x-python",
   "name": "python",
   "nbconvert_exporter": "python",
   "pygments_lexer": "ipython3",
   "version": "3.6.11"
  },
  "toc": {
   "base_numbering": 1,
   "nav_menu": {},
   "number_sections": true,
   "sideBar": true,
   "skip_h1_title": false,
   "title_cell": "Table of Contents",
   "title_sidebar": "Contents",
   "toc_cell": false,
   "toc_position": {
    "height": "calc(100% - 180px)",
    "left": "10px",
    "top": "150px",
    "width": "234px"
   },
   "toc_section_display": true,
   "toc_window_display": true
  }
 },
 "nbformat": 4,
 "nbformat_minor": 1
}
