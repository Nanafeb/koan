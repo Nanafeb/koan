{
 "cells": [
  {
   "cell_type": "markdown",
   "metadata": {
    "colab_type": "text",
    "id": "98P6d2M-NKD7"
   },
   "source": [
    "# data.ipynb について\n",
    "\n",
    "このノートブックは，\n",
    "\n",
    "+ [PythonユーザのためのJupyter[実践]入門 ](https://www.amazon.co.jp/dp/4774192236)\n",
    "+ [Pythonによるデータ分析入門 ](https://www.amazon.co.jp/dp/487311845X)\n",
    "\n",
    "をベースに作っています．\n",
    "\n",
    "\n",
    "\n"
   ]
  },
  {
   "cell_type": "markdown",
   "metadata": {
    "colab_type": "text",
    "id": "dnLLmYmGNiBt"
   },
   "source": [
    "# pandas 基礎\n"
   ]
  },
  {
   "cell_type": "code",
   "execution_count": 1,
   "metadata": {
    "colab": {
     "base_uri": "https://localhost:8080/",
     "height": 207
    },
    "colab_type": "code",
    "executionInfo": {
     "elapsed": 4444,
     "status": "ok",
     "timestamp": 1570190322913,
     "user": {
      "displayName": "しんせいたろう",
      "photoUrl": "https://lh3.googleusercontent.com/a-/AAuE7mCeGSOpo-IOBm-SS14R2Q4izSqp9di-ia6aKdzy3g=s64",
      "userId": "05047283289092437640"
     },
     "user_tz": -540
    },
    "id": "9WSnCmd4NxHK",
    "outputId": "761ebbc9-4555-41d6-b6ec-ece30eeb878d"
   },
   "outputs": [
    {
     "name": "stdout",
     "output_type": "stream",
     "text": [
      "--2019-10-04 11:58:40--  https://raw.githubusercontent.com/practical-jupyter/sample-data/master/anime/3791.csv\n",
      "Resolving raw.githubusercontent.com (raw.githubusercontent.com)... 151.101.0.133, 151.101.64.133, 151.101.128.133, ...\n",
      "Connecting to raw.githubusercontent.com (raw.githubusercontent.com)|151.101.0.133|:443... connected.\n",
      "HTTP request sent, awaiting response... 200 OK\n",
      "Length: 133561 (130K) [text/plain]\n",
      "Saving to: ‘3791.csv’\n",
      "\n",
      "\r",
      "3791.csv              0%[                    ]       0  --.-KB/s               \r",
      "3791.csv            100%[===================>] 130.43K  --.-KB/s    in 0.02s   \n",
      "\n",
      "2019-10-04 11:58:40 (5.89 MB/s) - ‘3791.csv’ saved [133561/133561]\n",
      "\n"
     ]
    }
   ],
   "source": [
    "# サンプルデータをダウンロード\n",
    "# ローカルマシンで実行している方は下記リンクをローカルにダウンロードして下さい\n",
    "# colab の方は下記を実行して下さい\n",
    "\n",
    "!wget https://raw.githubusercontent.com/practical-jupyter/sample-data/master/anime/3791.csv\n"
   ]
  },
  {
   "cell_type": "markdown",
   "metadata": {
    "colab": {},
    "colab_type": "code",
    "id": "mqau0JWVPHdB"
   },
   "source": [
    "## P-001\n",
    "\n",
    "pandas の read_csv 関数を使ってファイルを DataFrameに変換してください。それを df という変数に格納して下さい\n",
    "注意： colab の方は， file名は，anime.csvでOKです．\n",
    "ローカルマシンの人は，ダウンロードしたファイルまでのパスを入れて下さい\n",
    "\n"
   ]
  },
  {
   "cell_type": "markdown",
   "metadata": {
    "colab": {},
    "colab_type": "code",
    "id": "iANSi2wSP1J3"
   },
   "source": [
    "## P-002\n",
    "\n",
    "df の最初の10行を表示して下さい\n"
   ]
  },
  {
   "cell_type": "markdown",
   "metadata": {
    "colab": {},
    "colab_type": "code",
    "id": "OaFzaA9lQSTj"
   },
   "source": [
    "## P-003\n",
    "\n",
    "df の最後の10行を表示して下さい"
   ]
  },
  {
   "cell_type": "markdown",
   "metadata": {
    "colab": {},
    "colab_type": "code",
    "id": "i3evg_mzQW8_"
   },
   "source": [
    "## P-004\n",
    "df の columns だけ表示してください\n"
   ]
  },
  {
   "cell_type": "markdown",
   "metadata": {
    "colab": {},
    "colab_type": "code",
    "id": "y3rtvQ4ooRnC"
   },
   "source": [
    "## P-005 \n",
    "\n",
    "コラム \"Date\" を to_datetime 関数を使って，datetime オブジェクトに変換し，上書きして下さい.\n",
    "pandas.to_datetime https://pandas.pydata.org/pandas-docs/stable/reference/api/pandas.to_datetime.html\n",
    "\n"
   ]
  },
  {
   "cell_type": "markdown",
   "metadata": {
    "colab": {},
    "colab_type": "code",
    "id": "Q3iajkrxoFuO"
   },
   "source": [
    "## P-006\n",
    "\n",
    "コラム 'Date' を Index にしてください\n"
   ]
  },
  {
   "cell_type": "markdown",
   "metadata": {
    "colab": {},
    "colab_type": "code",
    "id": "qPn40WQvdk8O"
   },
   "source": [
    "## P-007 \n",
    "\"Close\" の行だけ表示して下さい"
   ]
  },
  {
   "cell_type": "code",
   "execution_count": 0,
   "metadata": {
    "colab": {},
    "colab_type": "code",
    "id": "HJ3CVi1Ei9wl"
   },
   "outputs": [],
   "source": [
    "# \"Close\"と\" Open\"  だけ表示して下さい\n"
   ]
  },
  {
   "cell_type": "code",
   "execution_count": 0,
   "metadata": {
    "colab": {},
    "colab_type": "code",
    "id": "sQCMzOrhjURC"
   },
   "outputs": [],
   "source": [
    "#  \"Close\" の行だけ取得して 変数 s に格納して下さい\n"
   ]
  },
  {
   "cell_type": "code",
   "execution_count": 0,
   "metadata": {
    "colab": {},
    "colab_type": "code",
    "id": "zEZgOv-OkdQ7"
   },
   "outputs": [],
   "source": [
    "# sの\"2016-07-12\"のデータを取得して下さい\n"
   ]
  },
  {
   "cell_type": "code",
   "execution_count": 0,
   "metadata": {
    "colab": {},
    "colab_type": "code",
    "id": "X_alSnyUk4QA"
   },
   "outputs": [],
   "source": [
    "# sの2016-07-12から2016-07-15を取得してください\n"
   ]
  },
  {
   "cell_type": "code",
   "execution_count": 0,
   "metadata": {
    "colab": {},
    "colab_type": "code",
    "id": "RxEHD387lNpj"
   },
   "outputs": [],
   "source": [
    "# sの１００番目の値を取得してください\n",
    "\n"
   ]
  },
  {
   "cell_type": "code",
   "execution_count": 0,
   "metadata": {
    "colab": {},
    "colab_type": "code",
    "id": "XfQMWfUxJQmW"
   },
   "outputs": [],
   "source": [
    "# sの１００から１０５番目の値を取得してください\n"
   ]
  },
  {
   "cell_type": "code",
   "execution_count": 0,
   "metadata": {
    "colab": {},
    "colab_type": "code",
    "id": "xOONeoXNJm4m"
   },
   "outputs": [],
   "source": [
    "# s に入っている値が1,000以上かどうかをTrue/Falseで取得してください\n"
   ]
  },
  {
   "cell_type": "code",
   "execution_count": 0,
   "metadata": {
    "colab": {},
    "colab_type": "code",
    "id": "wfNnZmhEKAqH"
   },
   "outputs": [],
   "source": [
    "# s に入っている値が1,000以上の値だけ取得してください\n"
   ]
  },
  {
   "cell_type": "code",
   "execution_count": 0,
   "metadata": {
    "colab": {},
    "colab_type": "code",
    "id": "MT6wMfldN-SB"
   },
   "outputs": [],
   "source": [
    "# .loc を使って df から、\"2016-07-15\"の Open の値を取得してください\n"
   ]
  },
  {
   "cell_type": "code",
   "execution_count": 0,
   "metadata": {
    "colab": {},
    "colab_type": "code",
    "id": "BoGPNJIRPsFT"
   },
   "outputs": [],
   "source": [
    "# .loc を使って df から\"Open\"のデータを取得してください\n"
   ]
  },
  {
   "cell_type": "code",
   "execution_count": 0,
   "metadata": {
    "colab": {},
    "colab_type": "code",
    "id": "czmLDvOuQYUi"
   },
   "outputs": [],
   "source": [
    "# .loc を使って df から \"2016-07-15\"のデータを取得してください\n"
   ]
  },
  {
   "cell_type": "code",
   "execution_count": 0,
   "metadata": {
    "colab": {},
    "colab_type": "code",
    "id": "hgqz6xBsQruG"
   },
   "outputs": [],
   "source": [
    "# .loc を使って df から 2016-07-12から2016-07-15の　\"High\" と\"Low\"データを取得してください"
   ]
  },
  {
   "cell_type": "code",
   "execution_count": 0,
   "metadata": {
    "colab": {},
    "colab_type": "code",
    "id": "-xvsBOdfR0iv"
   },
   "outputs": [],
   "source": [
    "# .iloc を使って s から１００番目の値を取得してください\n"
   ]
  },
  {
   "cell_type": "code",
   "execution_count": 0,
   "metadata": {
    "colab": {},
    "colab_type": "code",
    "id": "5sR9mifDSZ6R"
   },
   "outputs": [],
   "source": [
    "# .iloc を使って df から、１００行目の値を取得してください\n"
   ]
  },
  {
   "cell_type": "code",
   "execution_count": 0,
   "metadata": {
    "colab": {},
    "colab_type": "code",
    "id": "Wwlci45ISnnd"
   },
   "outputs": [],
   "source": [
    "# .iloc を使って df から、１００〜１０５行目の \"High\"と \"Low\" の値を取得してください\n"
   ]
  },
  {
   "cell_type": "code",
   "execution_count": 0,
   "metadata": {
    "colab": {},
    "colab_type": "code",
    "id": "L7MaemzlSyaa"
   },
   "outputs": [],
   "source": [
    "# df に入っている値が1,000以上かどうかをTrue/Falseで取得してください\n"
   ]
  },
  {
   "cell_type": "code",
   "execution_count": 0,
   "metadata": {
    "colab": {},
    "colab_type": "code",
    "id": "QNcsVefSTCIQ"
   },
   "outputs": [],
   "source": [
    "# df に入っている値が1,000以上の値だけ取得してください\n"
   ]
  },
  {
   "cell_type": "code",
   "execution_count": 0,
   "metadata": {
    "colab": {},
    "colab_type": "code",
    "id": "QE8Hrj5qToPW"
   },
   "outputs": [],
   "source": [
    "# .locを使って　df の \"Open\"が1300以上で、 \"Low\"が 1300以下の行を取得してください\n",
    "\n"
   ]
  }
 ],
 "metadata": {
  "colab": {
   "collapsed_sections": [],
   "name": "data.ipynb",
   "provenance": [],
   "toc_visible": true
  },
  "kernelspec": {
   "display_name": "Python 3",
   "language": "python",
   "name": "python3"
  },
  "language_info": {
   "codemirror_mode": {
    "name": "ipython",
    "version": 3
   },
   "file_extension": ".py",
   "mimetype": "text/x-python",
   "name": "python",
   "nbconvert_exporter": "python",
   "pygments_lexer": "ipython3",
   "version": "3.7.5"
  }
 },
 "nbformat": 4,
 "nbformat_minor": 1
}
