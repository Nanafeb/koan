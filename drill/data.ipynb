{
 "cells": [
  {
   "cell_type": "markdown",
   "metadata": {
    "colab_type": "text",
    "id": "98P6d2M-NKD7"
   },
   "source": [
    "# data.ipynb について\n",
    "\n",
    "このノートブックは，\n",
    "\n",
    "+ [PythonユーザのためのJupyter[実践]入門 ](https://www.amazon.co.jp/dp/4774192236)\n",
    "+ [Pythonによるデータ分析入門 ](https://www.amazon.co.jp/dp/487311845X)\n",
    "\n",
    "をベースに作っています．\n",
    "\n",
    "\n",
    "\n"
   ]
  },
  {
   "cell_type": "markdown",
   "metadata": {
    "colab_type": "text",
    "id": "dnLLmYmGNiBt"
   },
   "source": [
    "# pandas 基礎\n"
   ]
  },
  {
   "cell_type": "markdown",
   "metadata": {
    "colab": {},
    "colab_type": "code",
    "id": "mqau0JWVPHdB"
   },
   "source": [
    "## P-001\n",
    "pandas の read_csv 関数を使って `stat/3791.csv` ファイルを DataFrameに変換し df という変数に格納して下さい\n"
   ]
  },
  {
   "cell_type": "markdown",
   "metadata": {
    "colab": {},
    "colab_type": "code",
    "id": "iANSi2wSP1J3"
   },
   "source": [
    "## P-002\n",
    "\n",
    "df の最初の10行を表示して下さい\n"
   ]
  },
  {
   "cell_type": "markdown",
   "metadata": {
    "colab": {},
    "colab_type": "code",
    "id": "OaFzaA9lQSTj"
   },
   "source": [
    "## P-003\n",
    "\n",
    "df の最後の10行を表示して下さい"
   ]
  },
  {
   "cell_type": "markdown",
   "metadata": {
    "colab": {},
    "colab_type": "code",
    "id": "i3evg_mzQW8_"
   },
   "source": [
    "## P-004\n",
    "df の columns だけ表示してください\n"
   ]
  },
  {
   "cell_type": "markdown",
   "metadata": {
    "colab": {},
    "colab_type": "code",
    "id": "y3rtvQ4ooRnC"
   },
   "source": [
    "## P-005 \n",
    "\n",
    "コラム \"Date\" を to_datetime 関数を使って，datetime オブジェクトに変換し，上書きして下さい.\n",
    "\n",
    "pandas.to_datetime https://pandas.pydata.org/pandas-docs/stable/reference/api/pandas.to_datetime.html\n",
    "\n"
   ]
  },
  {
   "cell_type": "markdown",
   "metadata": {
    "colab": {},
    "colab_type": "code",
    "id": "Q3iajkrxoFuO"
   },
   "source": [
    "## P-006\n",
    "\n",
    "コラム 'Date' を Index にして df を上書きしてください\n"
   ]
  },
  {
   "cell_type": "markdown",
   "metadata": {
    "colab": {},
    "colab_type": "code",
    "id": "qPn40WQvdk8O"
   },
   "source": [
    "## P-007 \n",
    "\"Close\" の行だけ表示して下さい"
   ]
  },
  {
   "cell_type": "markdown",
   "metadata": {
    "colab": {},
    "colab_type": "code",
    "id": "HJ3CVi1Ei9wl"
   },
   "source": [
    "## P-008\n",
    "\n",
    "\"Close\"と\" Open\"  だけ表示して下さい\n"
   ]
  },
  {
   "cell_type": "markdown",
   "metadata": {
    "colab": {},
    "colab_type": "code",
    "id": "sQCMzOrhjURC"
   },
   "source": [
    "## P-009\n",
    "\n",
    "\"Close\" の行だけ取得して 変数 s に格納して下さい\n"
   ]
  },
  {
   "cell_type": "markdown",
   "metadata": {
    "colab": {},
    "colab_type": "code",
    "id": "zEZgOv-OkdQ7"
   },
   "source": [
    "## P-010\n",
    "sの\"2016-07-12\"のデータを取得して下さい\n"
   ]
  },
  {
   "cell_type": "markdown",
   "metadata": {
    "colab": {},
    "colab_type": "code",
    "id": "X_alSnyUk4QA"
   },
   "source": [
    "## P-011\n",
    "sの2016-07-12から2016-07-15を取得してください\n"
   ]
  },
  {
   "cell_type": "markdown",
   "metadata": {
    "colab": {},
    "colab_type": "code",
    "id": "RxEHD387lNpj"
   },
   "source": [
    "## P-012\n",
    "sの１００番目の値を取得してください\n",
    "\n"
   ]
  },
  {
   "cell_type": "markdown",
   "metadata": {
    "colab": {},
    "colab_type": "code",
    "id": "XfQMWfUxJQmW"
   },
   "source": [
    "## P-013\n",
    "sの１００から１０５番目の値を取得してください\n"
   ]
  },
  {
   "cell_type": "markdown",
   "metadata": {
    "colab": {},
    "colab_type": "code",
    "id": "xOONeoXNJm4m"
   },
   "source": [
    "## P-014\n",
    "s に入っている値が1,000以上かどうかをTrue/Falseで取得してください\n"
   ]
  },
  {
   "cell_type": "markdown",
   "metadata": {
    "colab": {},
    "colab_type": "code",
    "id": "wfNnZmhEKAqH"
   },
   "source": [
    "## P-015\n",
    "s に入っている値が1,000以上の値だけ取得してください\n"
   ]
  },
  {
   "cell_type": "markdown",
   "metadata": {
    "colab": {},
    "colab_type": "code",
    "id": "MT6wMfldN-SB"
   },
   "source": [
    "## P-016\n",
    ".loc を使って df から、\"2016-07-15\"の Open の値を取得してください\n"
   ]
  },
  {
   "cell_type": "markdown",
   "metadata": {
    "colab": {},
    "colab_type": "code",
    "id": "BoGPNJIRPsFT"
   },
   "source": [
    "## P-017\n",
    ".loc を使って df から\"Open\"のデータを取得してください\n"
   ]
  },
  {
   "cell_type": "markdown",
   "metadata": {
    "colab": {},
    "colab_type": "code",
    "id": "czmLDvOuQYUi"
   },
   "source": [
    "## P-018\n",
    ".loc を使って df から \"2016-07-15\"のデータを取得してください\n"
   ]
  },
  {
   "cell_type": "markdown",
   "metadata": {
    "colab": {},
    "colab_type": "code",
    "id": "hgqz6xBsQruG"
   },
   "source": [
    "## P-019\n",
    ".loc を使って df から 2016-07-12から2016-07-15の　\"High\" と\"Low\"データを取得してください"
   ]
  },
  {
   "cell_type": "markdown",
   "metadata": {
    "colab": {},
    "colab_type": "code",
    "id": "-xvsBOdfR0iv"
   },
   "source": [
    "## P-020\n",
    ".iloc を使って s から１００番目の値を取得してください\n"
   ]
  },
  {
   "cell_type": "markdown",
   "metadata": {
    "colab": {},
    "colab_type": "code",
    "id": "5sR9mifDSZ6R"
   },
   "source": [
    "## P-021\n",
    ".iloc を使って df から、１００行目の値を取得してください\n"
   ]
  },
  {
   "cell_type": "markdown",
   "metadata": {
    "colab": {},
    "colab_type": "code",
    "id": "Wwlci45ISnnd"
   },
   "source": [
    "## P-022\n",
    ".iloc を使って df から、１００〜１０５行目の \"High\"と \"Low\" の値を取得してください\n"
   ]
  },
  {
   "cell_type": "markdown",
   "metadata": {
    "colab": {},
    "colab_type": "code",
    "id": "L7MaemzlSyaa"
   },
   "source": [
    "## P-023\n",
    "df に入っている値が1,000以上かどうかをTrue/Falseで取得してください\n"
   ]
  },
  {
   "cell_type": "markdown",
   "metadata": {
    "colab": {},
    "colab_type": "code",
    "id": "QNcsVefSTCIQ"
   },
   "source": [
    "## P-024\n",
    "df に入っている値が1,000以上の値だけ取得してください\n"
   ]
  },
  {
   "cell_type": "markdown",
   "metadata": {
    "colab": {},
    "colab_type": "code",
    "id": "QE8Hrj5qToPW"
   },
   "source": [
    "## P-025\n",
    "df の \"Open\"が1300以上で、 \"Low\"が 1300以下の行を取得してください\n"
   ]
  },
  {
   "cell_type": "markdown",
   "metadata": {},
   "source": [
    "## P-026\n",
    "\"Close\" を使って前日比を作成し，コラム\"Change Ratio\" として df に追加して下さい"
   ]
  },
  {
   "cell_type": "markdown",
   "metadata": {},
   "source": [
    "## P-027 \n",
    "\"Open\" と \"Close\" を使って，日中の変化率を作成し，コラム \"Intraday Change Ratio\" として df に追加して下さい．"
   ]
  },
  {
   "cell_type": "markdown",
   "metadata": {},
   "source": [
    "## P-028\n",
    "\"Open\" と \"Close\" を使って，前日の終値から当日の始値までの変化率を作成し，コラム \"Overnight Change Ratio\" として df に追加して下さい．"
   ]
  },
  {
   "cell_type": "markdown",
   "metadata": {},
   "source": [
    "## P-029\n",
    "\"Close\"と \"Volume\" を使って一日の売買代金を計算し，コラム \"Volume amount\" として df に追加して下さい"
   ]
  },
  {
   "cell_type": "markdown",
   "metadata": {},
   "source": [
    "## P-030 \n",
    "\"Change Ratio\" の上位10件を出力して下さい"
   ]
  },
  {
   "cell_type": "code",
   "execution_count": null,
   "metadata": {},
   "outputs": [],
   "source": []
  }
 ],
 "metadata": {
  "colab": {
   "collapsed_sections": [],
   "name": "data.ipynb",
   "provenance": [],
   "toc_visible": true
  },
  "kernelspec": {
   "display_name": "Python 3",
   "language": "python",
   "name": "python3"
  },
  "language_info": {
   "codemirror_mode": {
    "name": "ipython",
    "version": 3
   },
   "file_extension": ".py",
   "mimetype": "text/x-python",
   "name": "python",
   "nbconvert_exporter": "python",
   "pygments_lexer": "ipython3",
   "version": "3.6.11"
  },
  "toc": {
   "base_numbering": 1,
   "nav_menu": {},
   "number_sections": true,
   "sideBar": true,
   "skip_h1_title": false,
   "title_cell": "Table of Contents",
   "title_sidebar": "Contents",
   "toc_cell": false,
   "toc_position": {
    "height": "calc(100% - 180px)",
    "left": "10px",
    "top": "150px",
    "width": "246px"
   },
   "toc_section_display": true,
   "toc_window_display": true
  }
 },
 "nbformat": 4,
 "nbformat_minor": 1
}
